{
  "nbformat": 4,
  "nbformat_minor": 0,
  "metadata": {
    "colab": {
      "provenance": [],
      "authorship_tag": "ABX9TyMjp+w0u5nPcpvHyYOdLIwi",
      "include_colab_link": true
    },
    "kernelspec": {
      "name": "python3",
      "display_name": "Python 3"
    },
    "language_info": {
      "name": "python"
    }
  },
  "cells": [
    {
      "cell_type": "markdown",
      "metadata": {
        "id": "view-in-github",
        "colab_type": "text"
      },
      "source": [
        "<a href=\"https://colab.research.google.com/github/WhyAvya/vitalis/blob/main/Diabetes.ipynb\" target=\"_parent\"><img src=\"https://colab.research.google.com/assets/colab-badge.svg\" alt=\"Open In Colab\"/></a>"
      ]
    },
    {
      "cell_type": "markdown",
      "source": [
        "# Diabetes\n"
      ],
      "metadata": {
        "id": "oLE4b3YXUbjK"
      }
    },
    {
      "cell_type": "code",
      "source": [],
      "metadata": {
        "id": "E3WYoBcyUhrG"
      },
      "execution_count": null,
      "outputs": []
    },
    {
      "cell_type": "markdown",
      "source": [
        "### Load Data"
      ],
      "metadata": {
        "id": "ZSh3SGqWUg40"
      }
    },
    {
      "cell_type": "code",
      "source": [
        "import pandas as pd\n",
        "from sklearn.model_selection import train_test_split\n",
        "from sklearn.linear_model import LogisticRegression\n",
        "from sklearn.impute import SimpleImputer\n",
        "from sklearn.metrics import classification_report\n",
        "\n",
        "url1 = \"https://raw.githubusercontent.com/WhyAvya/vitalis/f816162997dd8f385f10fd7a9dd6f92099bdca83/diabetes_data_no_heartRate.csv\"\n",
        "url2 = \"https://raw.githubusercontent.com/WhyAvya/vitalis/refs/heads/main/diabetes.csv\"\n",
        "\n",
        "df1 = pd.read_csv(url1)\n",
        "df2 = pd.read_csv(url2)"
      ],
      "metadata": {
        "id": "f1Pi2xY_Unic"
      },
      "execution_count": 38,
      "outputs": []
    },
    {
      "cell_type": "markdown",
      "source": [
        "### Data Inspec\n"
      ],
      "metadata": {
        "id": "kdKsGvUyauR6"
      }
    },
    {
      "cell_type": "code",
      "source": [
        "print(\"Dataset 1 columns:\", df1.columns.tolist())\n",
        "print(\"Dataset 2 columns:\", df2.columns.tolist())"
      ],
      "metadata": {
        "colab": {
          "base_uri": "https://localhost:8080/"
        },
        "id": "FWecnDCJayQa",
        "outputId": "797d3509-513c-47ca-d508-bc187d29eafa"
      },
      "execution_count": 33,
      "outputs": [
        {
          "output_type": "stream",
          "name": "stdout",
          "text": [
            "Dataset 1 columns: ['Age', 'Sex', 'HighChol', 'CholCheck', 'BMI', 'Smoker', 'HeartDiseaseorAttack', 'PhysActivity', 'Fruits', 'Veggies', 'HvyAlcoholConsump', 'GenHlth', 'MentHlth', 'PhysHlth', 'DiffWalk', 'Stroke', 'HighBP', 'Diabetes']\n",
            "Dataset 2 columns: ['Pregnancies', 'Glucose', 'BloodPressure', 'SkinThickness', 'Insulin', 'BMI', 'DiabetesPedigreeFunction', 'Age', 'diabetes_outcome']\n"
          ]
        }
      ]
    },
    {
      "cell_type": "markdown",
      "source": [
        "### Data Prep\n"
      ],
      "metadata": {
        "id": "JS6zTk-rZ3xc"
      }
    },
    {
      "cell_type": "code",
      "source": [
        "features = ['Age', 'BMI', 'Glucose', 'BloodPressure', 'PhysActivity', 'Pregnancies']\n",
        "\n",
        "# Check if HighBP exists in df1 and BloodPressure in df2\n",
        "if 'HighBP' in df1.columns and 'BloodPressure' in df2.columns:\n",
        "    bp_median = df2['BloodPressure'].median()\n",
        "    df1['BloodPressure'] = df1['HighBP'].map({1: bp_median + 10, 0: bp_median - 5})\n",
        "\n",
        "# Check if PhysActivity exists\n",
        "if 'PhysActivity' in df1.columns:\n",
        "    df1['PhysActivity'] = df1['PhysActivity'].map({'Yes': 1, 'No': 0}).fillna(0)\n",
        "\n",
        "# Select only relevant columns\n",
        "df1 = df1[[col for col in features if col in df1.columns]]\n",
        "df2 = df2[[col for col in features if col in df2.columns]]"
      ],
      "metadata": {
        "id": "fn5jVGX2Z6d3"
      },
      "execution_count": 34,
      "outputs": []
    },
    {
      "cell_type": "markdown",
      "source": [
        "## Model Train\n"
      ],
      "metadata": {
        "id": "gfz0425baNvl"
      }
    },
    {
      "cell_type": "code",
      "source": [
        "# 1. Check for target column (case-insensitive)\n",
        "possible_targets = ['diabetes_outcome', 'diabetes', 'target']\n",
        "target_column = next((col for col in df2.columns if col.lower() in possible_targets), None)\n",
        "\n",
        "if not target_column:\n",
        "    # Show exactly what columns are available\n",
        "    print(\"Error: Target column not found. Available columns:\")\n",
        "    print(df2.columns.tolist())\n",
        "    raise ValueError(\"Could not find 'target' or similar target column\")\n",
        "\n",
        "# 2. Use the found target column name (keeping original case)\n",
        "train_data = df2.copy()\n",
        "train_data['Risk'] = train_data[target_column]  # Use actual column name\n",
        "\n",
        "# 3. Select only features that exist in the dataframe\n",
        "available_features = [col for col in features if col in df2.columns]\n",
        "\n",
        "# 4. Original modeling code (now with validated columns)\n",
        "imputer = SimpleImputer(strategy='median')\n",
        "train_data[available_features] = imputer.fit_transform(train_data[available_features])\n",
        "\n",
        "X = train_data[available_features]\n",
        "y = train_data['Risk']\n",
        "\n",
        "X_train, X_test, y_train, y_test = train_test_split(X, y, test_size=0.2, random_state=42)\n",
        "\n",
        "model = LogisticRegression(max_iter=1000, random_state=42)\n",
        "model.fit(X_train, y_train)\n",
        "\n",
        "print(f\"Model trained using target column: '{target_column}'\")\n",
        "print(f\"Features used: {available_features}\")"
      ],
      "metadata": {
        "colab": {
          "base_uri": "https://localhost:8080/"
        },
        "id": "aHT-tHrWaU2y",
        "outputId": "f9789129-9cbe-459c-c2d7-549c1dfa8498"
      },
      "execution_count": 36,
      "outputs": [
        {
          "output_type": "stream",
          "name": "stdout",
          "text": [
            "Model trained using target column: 'diabetes_outcome'\n",
            "Features used: ['pregnancies', 'glucose', 'bloodpressure', 'bmi', 'age']\n"
          ]
        }
      ]
    },
    {
      "cell_type": "markdown",
      "source": [
        "## Model Evaluation"
      ],
      "metadata": {
        "id": "abi28qMLgVQH"
      }
    },
    {
      "cell_type": "code",
      "source": [
        "from sklearn.metrics import accuracy_score, precision_score, recall_score, f1_score, roc_auc_score, confusion_matrix\n",
        "\n",
        "y_pred = model.predict(X_test)\n",
        "y_prob = model.predict_proba(X_test)[:, 1]\n",
        "\n",
        "print(\"\\n=== Model Evaluation ===\")\n",
        "print(f\"Accuracy: {accuracy_score(y_test, y_pred):.2f}\")\n",
        "print(f\"Precision: {precision_score(y_test, y_pred):.2f}\")\n",
        "print(f\"Recall: {recall_score(y_test, y_pred):.2f}\")\n",
        "print(f\"F1 Score: {f1_score(y_test, y_pred):.2f}\")\n",
        "print(f\"ROC AUC: {roc_auc_score(y_test, y_prob):.2f}\")\n",
        "\n",
        "print(\"\\nConfusion Matrix:\")\n",
        "print(confusion_matrix(y_test, y_pred))"
      ],
      "metadata": {
        "colab": {
          "base_uri": "https://localhost:8080/"
        },
        "id": "Ci5KzJZmgZqh",
        "outputId": "4a756cc8-29ed-4267-db89-7dd0d85050e1"
      },
      "execution_count": 39,
      "outputs": [
        {
          "output_type": "stream",
          "name": "stdout",
          "text": [
            "\n",
            "=== Model Evaluation ===\n",
            "Accuracy: 0.71\n",
            "Precision: 0.59\n",
            "Recall: 0.64\n",
            "F1 Score: 0.61\n",
            "ROC AUC: 0.81\n",
            "\n",
            "Confusion Matrix:\n",
            "[[75 24]\n",
            " [20 35]]\n"
          ]
        }
      ]
    },
    {
      "cell_type": "markdown",
      "source": [
        "## Prediction\n"
      ],
      "metadata": {
        "id": "28mvgqiBgsCC"
      }
    },
    {
      "cell_type": "code",
      "source": [
        "def predict_diabetes_risk(pregnancies, glucose, bloodpressure, bmi, age):\n",
        "    input_data = [[pregnancies, glucose, bloodpressure, bmi, age]]\n",
        "    input_imputed = imputer.transform(input_data)\n",
        "    risk_prob = model.predict_proba(input_imputed)[0][1]\n",
        "\n",
        "    return {\n",
        "        'risk_percentage': f\"{risk_prob*100:.1f}%\",\n",
        "        'risk_class': 'High Risk' if risk_prob > 0.5 else 'Low Risk',\n",
        "        'features_used': ['pregnancies', 'glucose', 'bloodpressure', 'bmi', 'age']\n",
        "    }"
      ],
      "metadata": {
        "id": "3QmYClxOgxth"
      },
      "execution_count": 40,
      "outputs": []
    },
    {
      "cell_type": "markdown",
      "source": [
        "## Example\n"
      ],
      "metadata": {
        "id": "eI4IwTzlg2Dy"
      }
    },
    {
      "cell_type": "code",
      "source": [
        "test_case = {\n",
        "    'pregnancies': 2,\n",
        "    'glucose': 148,\n",
        "    'bloodpressure': 72,\n",
        "    'bmi': 33.6,\n",
        "    'age': 50\n",
        "}\n",
        "\n",
        "result = predict_diabetes_risk(**test_case)\n",
        "print(\"\\n=== Example Prediction ===\")\n",
        "print(f\"Input Features: {test_case}\")\n",
        "print(f\"Diabetes Risk: {result['risk_percentage']}\")\n",
        "print(f\"Classification: {result['risk_class']}\")\n",
        "print(f\"Features Used: {result['features_used']}\")"
      ],
      "metadata": {
        "colab": {
          "base_uri": "https://localhost:8080/"
        },
        "id": "vc44g2oVg5fz",
        "outputId": "4a98a651-9de3-4e71-9b12-1dc8a687f01c"
      },
      "execution_count": 41,
      "outputs": [
        {
          "output_type": "stream",
          "name": "stdout",
          "text": [
            "\n",
            "=== Example Prediction ===\n",
            "Input Features: {'pregnancies': 2, 'glucose': 148, 'bloodpressure': 72, 'bmi': 33.6, 'age': 50}\n",
            "Diabetes Risk: 65.6%\n",
            "Classification: High Risk\n",
            "Features Used: ['pregnancies', 'glucose', 'bloodpressure', 'bmi', 'age']\n"
          ]
        },
        {
          "output_type": "stream",
          "name": "stderr",
          "text": [
            "/usr/local/lib/python3.11/dist-packages/sklearn/utils/validation.py:2739: UserWarning: X does not have valid feature names, but SimpleImputer was fitted with feature names\n",
            "  warnings.warn(\n",
            "/usr/local/lib/python3.11/dist-packages/sklearn/utils/validation.py:2739: UserWarning: X does not have valid feature names, but LogisticRegression was fitted with feature names\n",
            "  warnings.warn(\n"
          ]
        }
      ]
    }
  ]
}