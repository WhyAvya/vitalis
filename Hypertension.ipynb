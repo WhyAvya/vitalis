{
  "nbformat": 4,
  "nbformat_minor": 0,
  "metadata": {
    "colab": {
      "provenance": [],
      "authorship_tag": "ABX9TyOHcTKkKICxpmexlnEE79nm",
      "include_colab_link": true
    },
    "kernelspec": {
      "name": "python3",
      "display_name": "Python 3"
    },
    "language_info": {
      "name": "python"
    }
  },
  "cells": [
    {
      "cell_type": "markdown",
      "metadata": {
        "id": "view-in-github",
        "colab_type": "text"
      },
      "source": [
        "<a href=\"https://colab.research.google.com/github/WhyAvya/vitalis/blob/main/Hypertension.ipynb\" target=\"_parent\"><img src=\"https://colab.research.google.com/assets/colab-badge.svg\" alt=\"Open In Colab\"/></a>"
      ]
    },
    {
      "cell_type": "code",
      "execution_count": null,
      "metadata": {
        "id": "r7G09Dsuls9H"
      },
      "outputs": [],
      "source": []
    },
    {
      "cell_type": "markdown",
      "source": [
        "# **Hypertension**"
      ],
      "metadata": {
        "id": "bk5HDHE0l4r4"
      }
    },
    {
      "cell_type": "markdown",
      "source": [
        "## **Load data**"
      ],
      "metadata": {
        "id": "NzKPgFZlmOd9"
      }
    },
    {
      "cell_type": "code",
      "source": [
        "import pandas as pd\n",
        "\n",
        "\n",
        "url1 = \"https://raw.githubusercontent.com/WhyAvya/vitalis/refs/heads/main/Heart%20Database/Hypertension%20Database/Hypertension-risk-model-main.csv\"\n",
        "url2 = \"https://raw.githubusercontent.com/WhyAvya/vitalis/refs/heads/main/Heart%20Database/Hypertension%20Database/Hypertension_data.csv\"\n",
        "\n",
        "df1 = pd.read_csv(url1)\n",
        "df2 = pd.read_csv(url2)\n",
        "\n",
        "\n",
        "important_cols = ['age', 'BMI', 'currentSmoker', 'heartRate', 'sysBP', 'diaBP']\n",
        "\n",
        "df1 = df1[[col for col in important_cols if col in df1.columns]]\n",
        "df2 = df2[[col for col in important_cols if col in df2.columns]]\n",
        "\n",
        "\n",
        "combined_data = pd.concat([df1, df2])\n",
        "\n",
        "\n",
        "print(combined_data.head())\n",
        "print(\"\\nTotal rows:\", len(combined_data))"
      ],
      "metadata": {
        "colab": {
          "base_uri": "https://localhost:8080/"
        },
        "id": "7CIwa7vxmtw1",
        "outputId": "f43478b5-44f4-4c05-e9a8-190c461fce8c"
      },
      "execution_count": 17,
      "outputs": [
        {
          "output_type": "stream",
          "name": "stdout",
          "text": [
            "   age    BMI  currentSmoker  heartRate  sysBP  diaBP\n",
            "0   39  26.97              0       80.0  106.0   70.0\n",
            "1   46  28.73              0       95.0  121.0   81.0\n",
            "2   48  25.34              1       75.0  127.5   80.0\n",
            "3   61  28.58              1       65.0  150.0   95.0\n",
            "4   46  23.10              1       85.0  130.0   84.0\n",
            "\n",
            "Total rows: 5247\n"
          ]
        }
      ]
    },
    {
      "cell_type": "markdown",
      "source": [
        "### Risk attribute\n"
      ],
      "metadata": {
        "id": "Scq72SCuwP3r"
      }
    },
    {
      "cell_type": "code",
      "source": [
        "\n",
        "combined_data['Risk'] = ((combined_data['sysBP'] >= 140) | (combined_data['diaBP'] >= 90)).astype(int)\n",
        "\n",
        "print(combined_data['Risk'].value_counts())"
      ],
      "metadata": {
        "colab": {
          "base_uri": "https://localhost:8080/"
        },
        "id": "G1SW20lGwa0e",
        "outputId": "f1777f73-52d4-4cde-e725-0942fa8af7dd"
      },
      "execution_count": 18,
      "outputs": [
        {
          "output_type": "stream",
          "name": "stdout",
          "text": [
            "Risk\n",
            "0    3734\n",
            "1    1513\n",
            "Name: count, dtype: int64\n"
          ]
        }
      ]
    },
    {
      "cell_type": "code",
      "source": [],
      "metadata": {
        "id": "EMKi4ttixExZ"
      },
      "execution_count": null,
      "outputs": []
    },
    {
      "cell_type": "markdown",
      "source": [
        "### Data spliting\n"
      ],
      "metadata": {
        "id": "wmT9KqUvxD0V"
      }
    },
    {
      "cell_type": "code",
      "source": [
        "from sklearn.model_selection import train_test_split\n",
        "\n",
        "X = combined_data[['age', 'BMI', 'currentSmoker', 'heartRate', 'sysBP', 'diaBP']]\n",
        "\n",
        "y = combined_data['Risk']\n",
        "\n",
        "\n",
        "X_train, X_test, y_train, y_test = train_test_split(X, y, test_size=0.2, random_state=42)\n",
        "\n"
      ],
      "metadata": {
        "id": "BYviaixpxJ0y"
      },
      "execution_count": 19,
      "outputs": []
    },
    {
      "cell_type": "markdown",
      "source": [
        "## Model Train\n"
      ],
      "metadata": {
        "id": "WcvZRx74zKgL"
      }
    },
    {
      "cell_type": "code",
      "source": [
        "from sklearn.linear_model import LogisticRegression\n",
        "from sklearn.impute import SimpleImputer\n",
        "import numpy as np\n",
        "\n",
        "\n",
        "imputer = SimpleImputer(strategy='median')\n",
        "X_train_filled = imputer.fit_transform(X_train)\n",
        "X_test_filled = imputer.transform(X_test)\n",
        "\n",
        "\n",
        "model = LogisticRegression()\n",
        "model.fit(X_train_filled, y_train)\n",
        "\n",
        "print(\"Accuracy:\", model.score(X_test_filled, y_test))\n"
      ],
      "metadata": {
        "colab": {
          "base_uri": "https://localhost:8080/"
        },
        "id": "DXETbRaH076S",
        "outputId": "207357d4-9d1e-4a22-f8cd-7cf70696c3e3"
      },
      "execution_count": 20,
      "outputs": [
        {
          "output_type": "stream",
          "name": "stdout",
          "text": [
            "Accuracy: 0.9666666666666667\n"
          ]
        }
      ]
    },
    {
      "cell_type": "code",
      "source": [],
      "metadata": {
        "id": "OA13Mheo3TpH"
      },
      "execution_count": null,
      "outputs": []
    },
    {
      "cell_type": "markdown",
      "source": [
        "# Evaluate Model\n"
      ],
      "metadata": {
        "id": "_xQ5NO933VqN"
      }
    },
    {
      "cell_type": "code",
      "source": [
        "from sklearn.metrics import classification_report, confusion_matrix\n",
        "\n",
        "y_pred = model.predict(X_test_filled)\n",
        "\n",
        "print(\"Classification Report:\")\n",
        "print(classification_report(y_test, y_pred))\n",
        "\n",
        "print(\"\\nConfusion Matrix:\")\n",
        "print(confusion_matrix(y_test, y_pred))"
      ],
      "metadata": {
        "colab": {
          "base_uri": "https://localhost:8080/"
        },
        "id": "Xg5dUTkw3cL5",
        "outputId": "e348a240-23e2-40b6-8543-b9d8013f5679"
      },
      "execution_count": 21,
      "outputs": [
        {
          "output_type": "stream",
          "name": "stdout",
          "text": [
            "Classification Report:\n",
            "              precision    recall  f1-score   support\n",
            "\n",
            "           0       0.97      0.98      0.98       743\n",
            "           1       0.96      0.93      0.94       307\n",
            "\n",
            "    accuracy                           0.97      1050\n",
            "   macro avg       0.96      0.96      0.96      1050\n",
            "weighted avg       0.97      0.97      0.97      1050\n",
            "\n",
            "\n",
            "Confusion Matrix:\n",
            "[[730  13]\n",
            " [ 22 285]]\n"
          ]
        }
      ]
    },
    {
      "cell_type": "markdown",
      "source": [
        "### Prediction\n"
      ],
      "metadata": {
        "id": "Jl5HDEsM4CHu"
      }
    },
    {
      "cell_type": "code",
      "source": [
        "def predict_hypertension_risk(age, bmi, smoker, heart_rate, sys_bp, dia_bp):\n",
        "\n",
        "    user_data = [[age, bmi, smoker, heart_rate, sys_bp, dia_bp]]\n",
        "    user_data_filled = imputer.transform(user_data)\n",
        "\n",
        "\n",
        "    risk_prob = model.predict_proba(user_data_filled)[0][1]\n",
        "    return f\"Hypertension Risk: {risk_prob*100:.1f}%\"\n",
        "\n",
        "\n",
        "print(predict_hypertension_risk(\n",
        "    age=40,\n",
        "    bmi=28,\n",
        "    smoker=1,\n",
        "    heart_rate=84,\n",
        "    sys_bp=135,\n",
        "    dia_bp=88\n",
        "))"
      ],
      "metadata": {
        "colab": {
          "base_uri": "https://localhost:8080/"
        },
        "id": "dhoS8Cjk4HOK",
        "outputId": "bdc6bf4d-a622-4d1e-836b-3e96f944f762"
      },
      "execution_count": 25,
      "outputs": [
        {
          "output_type": "stream",
          "name": "stdout",
          "text": [
            "Hypertension Risk: 57.4%\n"
          ]
        },
        {
          "output_type": "stream",
          "name": "stderr",
          "text": [
            "/usr/local/lib/python3.11/dist-packages/sklearn/utils/validation.py:2739: UserWarning: X does not have valid feature names, but SimpleImputer was fitted with feature names\n",
            "  warnings.warn(\n"
          ]
        }
      ]
    },
    {
      "cell_type": "code",
      "source": [
        "import joblib\n",
        "\n",
        "joblib.dump(model, 'hypertension_model.pkl')\n",
        "joblib.dump(imputer, 'imputer.pkl')\n",
        "\n",
        "print(\"Model and imputer saved!\")"
      ],
      "metadata": {
        "colab": {
          "base_uri": "https://localhost:8080/"
        },
        "id": "r-6OWYqu8vt2",
        "outputId": "c8b46cda-981f-4778-eff7-f29fc10d8c63"
      },
      "execution_count": 27,
      "outputs": [
        {
          "output_type": "stream",
          "name": "stdout",
          "text": [
            "Model and imputer saved!\n"
          ]
        }
      ]
    }
  ]
}